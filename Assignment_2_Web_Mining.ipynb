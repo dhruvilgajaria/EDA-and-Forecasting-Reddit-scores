{
 "cells": [
  {
   "cell_type": "markdown",
   "metadata": {},
   "source": [
    "## Importing Libraries and Loading Data"
   ]
  },
  {
   "cell_type": "code",
   "execution_count": 1,
   "metadata": {},
   "outputs": [],
   "source": [
    "import pandas as pd\n",
    "import numpy as np\n",
    "from sklearn.model_selection import train_test_split\n",
    "from sklearn.preprocessing import StandardScaler, MinMaxScaler, OneHotEncoder, RobustScaler\n",
    "from sklearn.compose import ColumnTransformer\n",
    "from sklearn.pipeline import Pipeline\n",
    "from sklearn.ensemble import RandomForestRegressor\n",
    "from sklearn.linear_model import LinearRegression\n",
    "from sklearn.metrics import mean_squared_error, r2_score\n",
    "from sklearn.decomposition import PCA\n",
    "from sklearn.model_selection import GridSearchCV\n",
    "from sklearn.feature_extraction.text import CountVectorizer\n",
    "from textblob import TextBlob  # For sentiment analysis\n",
    "import matplotlib.pyplot as plt"
   ]
  },
  {
   "cell_type": "code",
   "execution_count": 2,
   "metadata": {},
   "outputs": [],
   "source": [
    "# Load the dataset\n",
    "file_path = 'redditSubmissions.csv.gz'\n",
    "df = pd.read_csv(file_path, on_bad_lines='skip')"
   ]
  },
  {
   "cell_type": "markdown",
   "metadata": {},
   "source": [
    "## Advanced Data Preprocessing"
   ]
  },
  {
   "cell_type": "code",
   "execution_count": 3,
   "metadata": {},
   "outputs": [],
   "source": [
    "# Convert 'unixtime' to datetime\n",
    "df['datetime'] = pd.to_datetime(df['unixtime'], unit='s')\n",
    "\n",
    "# Feature Engineering\n",
    "# Extracting more time-related features\n",
    "df['hour'] = df['datetime'].dt.hour\n",
    "df['day_of_week'] = df['datetime'].dt.dayofweek\n",
    "df['month'] = df['datetime'].dt.month\n",
    "df['year'] = df['datetime'].dt.year\n",
    "\n",
    "# Text Analysis - Simple sentiment analysis on titles\n",
    "def sentiment_score(text):\n",
    "    try:\n",
    "        return TextBlob(str(text)).sentiment.polarity\n",
    "    except:\n",
    "        return 0  # Return a neutral sentiment score for non-string or problematic inputs\n",
    "\n",
    "df['title_sentiment'] = df['title'].apply(sentiment_score)\n",
    "\n",
    "\n",
    "df['title_sentiment'] = df['title'].apply(sentiment_score)\n",
    "\n",
    "# Handling Missing Data - Impute missing values if any\n",
    "df.fillna(df.mean(numeric_only=True), inplace=True)\n",
    "\n",
    "# Feature Scaling - Using Robust Scaler for numerical features\n",
    "num_features = ['hour', 'day_of_week', 'total_votes', 'number_of_comments', 'month', 'year', 'title_sentiment']\n",
    "cat_features = ['subreddit']\n",
    "\n",
    "preprocessor = ColumnTransformer(\n",
    "    transformers=[\n",
    "        ('num', RobustScaler(), num_features),\n",
    "        ('cat', OneHotEncoder(handle_unknown='ignore'), cat_features)\n",
    "    ]\n",
    ")"
   ]
  },
  {
   "cell_type": "markdown",
   "metadata": {},
   "source": [
    "## Splitting Dataset into Training and Testing Sets"
   ]
  },
  {
   "cell_type": "code",
   "execution_count": 4,
   "metadata": {},
   "outputs": [],
   "source": [
    "X = df[num_features + cat_features]\n",
    "y = df['score']\n",
    "\n",
    "X_train, X_test, y_train, y_test = train_test_split(X, y, test_size=0.2, random_state=42)"
   ]
  },
  {
   "cell_type": "markdown",
   "metadata": {},
   "source": [
    "## Dimensionality Reduction with Truncated SVD"
   ]
  },
  {
   "cell_type": "code",
   "execution_count": 5,
   "metadata": {},
   "outputs": [
    {
     "name": "stdout",
     "output_type": "stream",
     "text": [
      "Linear Regression with TruncatedSVD:\n",
      "Mean Squared Error (MSE): 75539.19758558368\n",
      "R-squared (R²): 0.6613211444903765\n"
     ]
    }
   ],
   "source": [
    "from sklearn.decomposition import TruncatedSVD\n",
    "\n",
    "# Update the pipeline to use TruncatedSVD for dimensionality reduction\n",
    "pipeline = Pipeline(steps=[('preprocessor', preprocessor),\n",
    "                           ('dim_reduction', TruncatedSVD(n_components=100)),  # Adjust n_components as needed\n",
    "                           ('regressor', LinearRegression())])\n",
    "\n",
    "pipeline.fit(X_train, y_train)\n",
    "y_pred = pipeline.predict(X_test)\n",
    "mse = mean_squared_error(y_test, y_pred)\n",
    "r2 = r2_score(y_test, y_pred)\n",
    "\n",
    "print(\"Linear Regression with TruncatedSVD:\")\n",
    "print(\"Mean Squared Error (MSE):\", mse)\n",
    "print(\"R-squared (R²):\", r2)"
   ]
  },
  {
   "cell_type": "markdown",
   "metadata": {},
   "source": [
    "## Random Forest"
   ]
  },
  {
   "cell_type": "code",
   "execution_count": 10,
   "metadata": {},
   "outputs": [
    {
     "data": {
      "text/plain": [
       "(18756.7913124891, 0.915904208440268)"
      ]
     },
     "execution_count": 10,
     "metadata": {},
     "output_type": "execute_result"
    }
   ],
   "source": [
    "from sklearn.ensemble import RandomForestRegressor\n",
    "\n",
    "# Using a more complex model - RandomForestRegressor\n",
    "# Updating the model in the pipeline with RandomForestRegressor\n",
    "complex_model = Pipeline(steps=[('preprocessor', preprocessor),\n",
    "                                ('regressor', RandomForestRegressor(random_state=42))])\n",
    "\n",
    "# Training the complex model\n",
    "complex_model.fit(X_train, y_train)\n",
    "\n",
    "# Making predictions and evaluating the complex model\n",
    "y_pred_complex = complex_model.predict(X_test)\n",
    "mse_complex = mean_squared_error(y_test, y_pred_complex)\n",
    "r2_complex = r2_score(y_test, y_pred_complex)\n",
    "\n",
    "mse_complex, r2_complex"
   ]
  },
  {
   "cell_type": "markdown",
   "metadata": {},
   "source": [
    "## Gradient Boosting Regressors (XGBoost)"
   ]
  },
  {
   "cell_type": "code",
   "execution_count": 17,
   "metadata": {},
   "outputs": [
    {
     "name": "stdout",
     "output_type": "stream",
     "text": [
      "XGBoost Regressor:\n",
      "Mean Squared Error (MSE): 17855.376162948658\n",
      "R-squared (R²): 0.9199456896969296\n"
     ]
    }
   ],
   "source": [
    "from xgboost import XGBRegressor\n",
    "\n",
    "# Update the model in the pipeline with XGBoostRegressor\n",
    "xgb_model = Pipeline(steps=[('preprocessor', preprocessor),\n",
    "                            ('regressor', XGBRegressor(random_state=42))])\n",
    "\n",
    "# Training the XGBoost model\n",
    "xgb_model.fit(X_train, y_train)\n",
    "\n",
    "# Making predictions and evaluating the XGBoost model\n",
    "y_pred_xgb = xgb_model.predict(X_test)\n",
    "mse_xgb = mean_squared_error(y_test, y_pred_xgb)\n",
    "r2_xgb = r2_score(y_test, y_pred_xgb)\n",
    "\n",
    "print(\"XGBoost Regressor:\")\n",
    "print(\"Mean Squared Error (MSE):\", mse_xgb)\n",
    "print(\"R-squared (R²):\", r2_xgb)\n"
   ]
  },
  {
   "cell_type": "markdown",
   "metadata": {},
   "source": [
    "## Support Vector Regression (SVR) "
   ]
  },
  {
   "cell_type": "code",
   "execution_count": 18,
   "metadata": {},
   "outputs": [
    {
     "name": "stdout",
     "output_type": "stream",
     "text": [
      "Support Vector Regression (SVR):\n",
      "Mean Squared Error (MSE): 93244.48141239984\n",
      "R-squared (R²): 0.5819397709174656\n"
     ]
    }
   ],
   "source": [
    "from sklearn.svm import SVR\n",
    "\n",
    "# Update the model in the pipeline with SVR\n",
    "svr_model = Pipeline(steps=[('preprocessor', preprocessor),\n",
    "                            ('regressor', SVR(kernel='linear'))])  # You can try different kernels (linear, poly, rbf, etc.)\n",
    "\n",
    "# Training the SVR model\n",
    "svr_model.fit(X_train, y_train)\n",
    "\n",
    "# Making predictions and evaluating the SVR model\n",
    "y_pred_svr = svr_model.predict(X_test)\n",
    "mse_svr = mean_squared_error(y_test, y_pred_svr)\n",
    "r2_svr = r2_score(y_test, y_pred_svr)\n",
    "\n",
    "print(\"Support Vector Regression (SVR):\")\n",
    "print(\"Mean Squared Error (MSE):\", mse_svr)\n",
    "print(\"R-squared (R²):\", r2_svr)"
   ]
  }
 ],
 "metadata": {
  "kernelspec": {
   "display_name": "Python 3",
   "language": "python",
   "name": "python3"
  },
  "language_info": {
   "codemirror_mode": {
    "name": "ipython",
    "version": 3
   },
   "file_extension": ".py",
   "mimetype": "text/x-python",
   "name": "python",
   "nbconvert_exporter": "python",
   "pygments_lexer": "ipython3",
   "version": "3.9.6"
  }
 },
 "nbformat": 4,
 "nbformat_minor": 2
}
